{
 "cells": [
  {
   "cell_type": "code",
   "execution_count": 1,
   "metadata": {},
   "outputs": [],
   "source": [
    "import pandas as pd\n",
    "import numpy as np\n",
    "import matplotlib.pyplot as plt\n",
    "from sklearn.metrics import mean_squared_error\n",
    "from math import sqrt\n",
    "import datetime\n",
    "import pickle\n",
    "import ast\n",
    "import gc\n",
    "import re\n",
    "\n",
    "import category_encoders as ce\n",
    "\n",
    "from sklearn.model_selection import train_test_split\n",
    "from sklearn.model_selection import StratifiedKFold\n",
    "\n",
    "from sklearn.feature_extraction.text import TfidfVectorizer, HashingVectorizer\n",
    "from scipy.sparse import csr_matrix, hstack\n",
    "\n",
    "\n",
    "gc.enable()"
   ]
  },
  {
   "cell_type": "code",
   "execution_count": 2,
   "metadata": {},
   "outputs": [],
   "source": [
    "def rmsle(h, y): \n",
    "    \"\"\"\n",
    "    Compute the Root Mean Squared Log Error for hypthesis h and targets y\n",
    "\n",
    "    Args:\n",
    "        h - numpy array containing predictions with shape (n_samples, n_targets)\n",
    "        y - numpy array containing targets with shape (n_samples, n_targets)\n",
    "    \"\"\"\n",
    "    return np.sqrt(np.square(np.log(h + 1) - np.log(y + 1)).mean())\n",
    "\n",
    "def rlmse_score(y_test, y_hat):\n",
    "    rlmse = np.sqrt(np.mean((np.log(1+y_test) - np.log(1+y_hat))**2))\n",
    "    return rlmse"
   ]
  },
  {
   "cell_type": "code",
   "execution_count": 3,
   "metadata": {},
   "outputs": [],
   "source": [
    "#del df_test\n",
    "#gc.collect()"
   ]
  },
  {
   "cell_type": "code",
   "execution_count": null,
   "metadata": {},
   "outputs": [],
   "source": [
    "df_train = pd.read_pickle('train_hack.pckl.zip')"
   ]
  },
  {
   "cell_type": "code",
   "execution_count": null,
   "metadata": {},
   "outputs": [],
   "source": [
    "df_train.head(5)"
   ]
  },
  {
   "cell_type": "code",
   "execution_count": null,
   "metadata": {},
   "outputs": [],
   "source": [
    "df_train.info()"
   ]
  },
  {
   "cell_type": "code",
   "execution_count": null,
   "metadata": {},
   "outputs": [],
   "source": [
    "# посмотрим количество уникальных значений для каждого столбца\n",
    "columns = [s for s in df_train.columns if df_train[s].dtypes == 'int64']\n",
    "for colum in columns:\n",
    "    print(len(df_train[colum].value_counts()), colum)"
   ]
  },
  {
   "cell_type": "code",
   "execution_count": null,
   "metadata": {},
   "outputs": [],
   "source": [
    "columns = [s for s in df_train.columns if df_train[s].dtypes == 'bool']\n",
    "for colum in columns:\n",
    "    print(df_train[colum].value_counts())"
   ]
  },
  {
   "cell_type": "code",
   "execution_count": null,
   "metadata": {},
   "outputs": [],
   "source": [
    "df_train['can_buy'].value_counts()"
   ]
  },
  {
   "cell_type": "code",
   "execution_count": 10,
   "metadata": {},
   "outputs": [
    {
     "data": {
      "text/html": [
       "<div>\n",
       "<style scoped>\n",
       "    .dataframe tbody tr th:only-of-type {\n",
       "        vertical-align: middle;\n",
       "    }\n",
       "\n",
       "    .dataframe tbody tr th {\n",
       "        vertical-align: top;\n",
       "    }\n",
       "\n",
       "    .dataframe thead th {\n",
       "        text-align: right;\n",
       "    }\n",
       "</style>\n",
       "<table border=\"1\" class=\"dataframe\">\n",
       "  <thead>\n",
       "    <tr style=\"text-align: right;\">\n",
       "      <th></th>\n",
       "      <th>can_buy</th>\n",
       "      <th>can_promote</th>\n",
       "      <th>category</th>\n",
       "      <th>contacts_visible</th>\n",
       "      <th>date_created</th>\n",
       "      <th>delivery_available</th>\n",
       "      <th>description</th>\n",
       "      <th>fields</th>\n",
       "      <th>id</th>\n",
       "      <th>images</th>\n",
       "      <th>location</th>\n",
       "      <th>mortgage_available</th>\n",
       "      <th>name</th>\n",
       "      <th>payment_available</th>\n",
       "      <th>price</th>\n",
       "      <th>subcategory</th>\n",
       "      <th>subway</th>\n",
       "    </tr>\n",
       "  </thead>\n",
       "  <tbody>\n",
       "    <tr>\n",
       "      <th>72</th>\n",
       "      <td>False</td>\n",
       "      <td>False</td>\n",
       "      <td>5</td>\n",
       "      <td>True</td>\n",
       "      <td>1497593720</td>\n",
       "      <td>False</td>\n",
       "      <td>Отдам срочно шотландцев (скотиш страйт) девочк...</td>\n",
       "      <td>[{'field': {'name': 'Животные', 'id': 5, 'slug...</td>\n",
       "      <td>4343d339c45ccdeb87773495</td>\n",
       "      <td>[{'id': '594376f7f20263d7be2957f3', 'num': 1, ...</td>\n",
       "      <td>{'latitude': 53.433392, 'longitude': 56.058512}</td>\n",
       "      <td>False</td>\n",
       "      <td>Шотландцы</td>\n",
       "      <td>False</td>\n",
       "      <td>0</td>\n",
       "      <td>503</td>\n",
       "      <td>NaN</td>\n",
       "    </tr>\n",
       "    <tr>\n",
       "      <th>137</th>\n",
       "      <td>False</td>\n",
       "      <td>False</td>\n",
       "      <td>17</td>\n",
       "      <td>True</td>\n",
       "      <td>1502886003</td>\n",
       "      <td>False</td>\n",
       "      <td></td>\n",
       "      <td>[{'field': {'name': 'Хэндмейд', 'id': 17, 'slu...</td>\n",
       "      <td>220cf017752d9e5837834995</td>\n",
       "      <td>[{'id': '59943873bd36c026dc1a9602', 'num': 1, ...</td>\n",
       "      <td>{'latitude': 56.104621, 'longitude': 40.35235}</td>\n",
       "      <td>False</td>\n",
       "      <td>Куколка</td>\n",
       "      <td>False</td>\n",
       "      <td>0</td>\n",
       "      <td>1704</td>\n",
       "      <td>NaN</td>\n",
       "    </tr>\n",
       "    <tr>\n",
       "      <th>211</th>\n",
       "      <td>False</td>\n",
       "      <td>False</td>\n",
       "      <td>22</td>\n",
       "      <td>True</td>\n",
       "      <td>1488269765</td>\n",
       "      <td>False</td>\n",
       "      <td>Отдам за большую шоколадку киндер в хорошем со...</td>\n",
       "      <td>[{'field': {'name': 'Детский гардероб', 'id': ...</td>\n",
       "      <td>57b54b37a957e9745c135b85</td>\n",
       "      <td>[{'id': '58b531c5cd3022009704651d', 'num': 1, ...</td>\n",
       "      <td>{'latitude': 55.567398, 'longitude': 42.016585}</td>\n",
       "      <td>False</td>\n",
       "      <td>Обувь</td>\n",
       "      <td>False</td>\n",
       "      <td>0</td>\n",
       "      <td>2209</td>\n",
       "      <td>NaN</td>\n",
       "    </tr>\n",
       "    <tr>\n",
       "      <th>214</th>\n",
       "      <td>False</td>\n",
       "      <td>False</td>\n",
       "      <td>9</td>\n",
       "      <td>True</td>\n",
       "      <td>1481826557</td>\n",
       "      <td>False</td>\n",
       "      <td>Отдам даром халаты для дома. Размер 48-50. В н...</td>\n",
       "      <td>[{'field': {'name': 'Женский гардероб', 'id': ...</td>\n",
       "      <td>e6ad9f053cb47ea8df0e2585</td>\n",
       "      <td>[{'id': '5852e0fc1c40315d078642fe', 'num': 1, ...</td>\n",
       "      <td>{'latitude': 54.200047, 'longitude': 45.174511}</td>\n",
       "      <td>False</td>\n",
       "      <td>Халаты для дома.</td>\n",
       "      <td>False</td>\n",
       "      <td>0</td>\n",
       "      <td>901</td>\n",
       "      <td>NaN</td>\n",
       "    </tr>\n",
       "    <tr>\n",
       "      <th>324</th>\n",
       "      <td>False</td>\n",
       "      <td>False</td>\n",
       "      <td>3</td>\n",
       "      <td>True</td>\n",
       "      <td>1501393626</td>\n",
       "      <td>False</td>\n",
       "      <td>Отдам бесплатно мягкие игрушки,все что на фото...</td>\n",
       "      <td>[{'field': {'name': 'Детские товары', 'id': 3,...</td>\n",
       "      <td>33a394dbd8e9ba6cad27d795</td>\n",
       "      <td>[{'id': '597d726b9e94ba8fca33a733', 'num': 1, ...</td>\n",
       "      <td>{'latitude': 56.016354, 'longitude': 92.85442}</td>\n",
       "      <td>False</td>\n",
       "      <td>Мягкие игрушки</td>\n",
       "      <td>False</td>\n",
       "      <td>0</td>\n",
       "      <td>314</td>\n",
       "      <td>NaN</td>\n",
       "    </tr>\n",
       "    <tr>\n",
       "      <th>359</th>\n",
       "      <td>False</td>\n",
       "      <td>False</td>\n",
       "      <td>3</td>\n",
       "      <td>True</td>\n",
       "      <td>1479819776</td>\n",
       "      <td>False</td>\n",
       "      <td>Отдам бесплатно. Пюре из цв.капусты выдали как...</td>\n",
       "      <td>[{'field': {'name': 'Детские товары', 'id': 3,...</td>\n",
       "      <td>5fe4431670d3f35d00244385</td>\n",
       "      <td>[{'id': '583441f04b5593e8431fdf2c', 'num': 1, ...</td>\n",
       "      <td>{'latitude': 55.815158, 'longitude': 38.986879}</td>\n",
       "      <td>False</td>\n",
       "      <td>Пюре цв.капуста и трусики \"Кораблик\"</td>\n",
       "      <td>False</td>\n",
       "      <td>0</td>\n",
       "      <td>311</td>\n",
       "      <td>NaN</td>\n",
       "    </tr>\n",
       "    <tr>\n",
       "      <th>397</th>\n",
       "      <td>False</td>\n",
       "      <td>False</td>\n",
       "      <td>9</td>\n",
       "      <td>True</td>\n",
       "      <td>1484397885</td>\n",
       "      <td>False</td>\n",
       "      <td>Отдаю вещи,в пакетах есть платья,джинсы,майки,...</td>\n",
       "      <td>[{'field': {'name': 'Женский гардероб', 'id': ...</td>\n",
       "      <td>45778365f8f95540d3d1a785</td>\n",
       "      <td>[{'id': '587a1c7d96ad844c96885edc', 'num': 1, ...</td>\n",
       "      <td>{'latitude': 47.204112, 'longitude': 39.631697}</td>\n",
       "      <td>False</td>\n",
       "      <td>Пакет вещей</td>\n",
       "      <td>False</td>\n",
       "      <td>0</td>\n",
       "      <td>901</td>\n",
       "      <td>NaN</td>\n",
       "    </tr>\n",
       "    <tr>\n",
       "      <th>426</th>\n",
       "      <td>False</td>\n",
       "      <td>False</td>\n",
       "      <td>22</td>\n",
       "      <td>True</td>\n",
       "      <td>1487795454</td>\n",
       "      <td>False</td>\n",
       "      <td>Отдам бу 1 раз</td>\n",
       "      <td>[{'field': {'name': 'Детский гардероб', 'id': ...</td>\n",
       "      <td>07207002031304c1ef4fda85</td>\n",
       "      <td>[{'id': '58adf4fe9a64a2de2a2e446d', 'num': 1, ...</td>\n",
       "      <td>{'latitude': 56.227821, 'longitude': 35.635624}</td>\n",
       "      <td>False</td>\n",
       "      <td>Набор для новорожденных</td>\n",
       "      <td>False</td>\n",
       "      <td>0</td>\n",
       "      <td>2201</td>\n",
       "      <td>NaN</td>\n",
       "    </tr>\n",
       "    <tr>\n",
       "      <th>519</th>\n",
       "      <td>False</td>\n",
       "      <td>False</td>\n",
       "      <td>3</td>\n",
       "      <td>True</td>\n",
       "      <td>1496826296</td>\n",
       "      <td>False</td>\n",
       "      <td>Отдам две каши и смесь Беллакт, пюре бебевита ...</td>\n",
       "      <td>[{'field': {'name': 'Детские товары', 'id': 3,...</td>\n",
       "      <td>260dc1ad0cba9a728b1c7395</td>\n",
       "      <td>[{'id': '5937c10cc3bdd287695f4fc7', 'num': 1, ...</td>\n",
       "      <td>{'latitude': 55.698215, 'longitude': 37.511066}</td>\n",
       "      <td>False</td>\n",
       "      <td>Каши и пюре</td>\n",
       "      <td>False</td>\n",
       "      <td>0</td>\n",
       "      <td>311</td>\n",
       "      <td>NaN</td>\n",
       "    </tr>\n",
       "    <tr>\n",
       "      <th>525</th>\n",
       "      <td>False</td>\n",
       "      <td>False</td>\n",
       "      <td>9</td>\n",
       "      <td>True</td>\n",
       "      <td>1492605382</td>\n",
       "      <td>False</td>\n",
       "      <td>3 кофты ( 2 рубашки и блузка) befree и сарафан...</td>\n",
       "      <td>[{'field': {'name': 'Женский гардероб', 'id': ...</td>\n",
       "      <td>34d5d29ae60008396c957f85</td>\n",
       "      <td>[{'id': '58f7594a074b3e164d2eaff4', 'num': 1, ...</td>\n",
       "      <td>{'latitude': 59.870759, 'longitude': 29.858937}</td>\n",
       "      <td>False</td>\n",
       "      <td>Вещи пакетом</td>\n",
       "      <td>False</td>\n",
       "      <td>0</td>\n",
       "      <td>907</td>\n",
       "      <td>NaN</td>\n",
       "    </tr>\n",
       "  </tbody>\n",
       "</table>\n",
       "</div>"
      ],
      "text/plain": [
       "     can_buy  can_promote  category  contacts_visible  date_created  \\\n",
       "72     False        False         5              True    1497593720   \n",
       "137    False        False        17              True    1502886003   \n",
       "211    False        False        22              True    1488269765   \n",
       "214    False        False         9              True    1481826557   \n",
       "324    False        False         3              True    1501393626   \n",
       "359    False        False         3              True    1479819776   \n",
       "397    False        False         9              True    1484397885   \n",
       "426    False        False        22              True    1487795454   \n",
       "519    False        False         3              True    1496826296   \n",
       "525    False        False         9              True    1492605382   \n",
       "\n",
       "     delivery_available                                        description  \\\n",
       "72                False  Отдам срочно шотландцев (скотиш страйт) девочк...   \n",
       "137               False                                                      \n",
       "211               False  Отдам за большую шоколадку киндер в хорошем со...   \n",
       "214               False  Отдам даром халаты для дома. Размер 48-50. В н...   \n",
       "324               False  Отдам бесплатно мягкие игрушки,все что на фото...   \n",
       "359               False  Отдам бесплатно. Пюре из цв.капусты выдали как...   \n",
       "397               False  Отдаю вещи,в пакетах есть платья,джинсы,майки,...   \n",
       "426               False                                     Отдам бу 1 раз   \n",
       "519               False  Отдам две каши и смесь Беллакт, пюре бебевита ...   \n",
       "525               False  3 кофты ( 2 рубашки и блузка) befree и сарафан...   \n",
       "\n",
       "                                                fields  \\\n",
       "72   [{'field': {'name': 'Животные', 'id': 5, 'slug...   \n",
       "137  [{'field': {'name': 'Хэндмейд', 'id': 17, 'slu...   \n",
       "211  [{'field': {'name': 'Детский гардероб', 'id': ...   \n",
       "214  [{'field': {'name': 'Женский гардероб', 'id': ...   \n",
       "324  [{'field': {'name': 'Детские товары', 'id': 3,...   \n",
       "359  [{'field': {'name': 'Детские товары', 'id': 3,...   \n",
       "397  [{'field': {'name': 'Женский гардероб', 'id': ...   \n",
       "426  [{'field': {'name': 'Детский гардероб', 'id': ...   \n",
       "519  [{'field': {'name': 'Детские товары', 'id': 3,...   \n",
       "525  [{'field': {'name': 'Женский гардероб', 'id': ...   \n",
       "\n",
       "                           id  \\\n",
       "72   4343d339c45ccdeb87773495   \n",
       "137  220cf017752d9e5837834995   \n",
       "211  57b54b37a957e9745c135b85   \n",
       "214  e6ad9f053cb47ea8df0e2585   \n",
       "324  33a394dbd8e9ba6cad27d795   \n",
       "359  5fe4431670d3f35d00244385   \n",
       "397  45778365f8f95540d3d1a785   \n",
       "426  07207002031304c1ef4fda85   \n",
       "519  260dc1ad0cba9a728b1c7395   \n",
       "525  34d5d29ae60008396c957f85   \n",
       "\n",
       "                                                images  \\\n",
       "72   [{'id': '594376f7f20263d7be2957f3', 'num': 1, ...   \n",
       "137  [{'id': '59943873bd36c026dc1a9602', 'num': 1, ...   \n",
       "211  [{'id': '58b531c5cd3022009704651d', 'num': 1, ...   \n",
       "214  [{'id': '5852e0fc1c40315d078642fe', 'num': 1, ...   \n",
       "324  [{'id': '597d726b9e94ba8fca33a733', 'num': 1, ...   \n",
       "359  [{'id': '583441f04b5593e8431fdf2c', 'num': 1, ...   \n",
       "397  [{'id': '587a1c7d96ad844c96885edc', 'num': 1, ...   \n",
       "426  [{'id': '58adf4fe9a64a2de2a2e446d', 'num': 1, ...   \n",
       "519  [{'id': '5937c10cc3bdd287695f4fc7', 'num': 1, ...   \n",
       "525  [{'id': '58f7594a074b3e164d2eaff4', 'num': 1, ...   \n",
       "\n",
       "                                            location  mortgage_available  \\\n",
       "72   {'latitude': 53.433392, 'longitude': 56.058512}               False   \n",
       "137   {'latitude': 56.104621, 'longitude': 40.35235}               False   \n",
       "211  {'latitude': 55.567398, 'longitude': 42.016585}               False   \n",
       "214  {'latitude': 54.200047, 'longitude': 45.174511}               False   \n",
       "324   {'latitude': 56.016354, 'longitude': 92.85442}               False   \n",
       "359  {'latitude': 55.815158, 'longitude': 38.986879}               False   \n",
       "397  {'latitude': 47.204112, 'longitude': 39.631697}               False   \n",
       "426  {'latitude': 56.227821, 'longitude': 35.635624}               False   \n",
       "519  {'latitude': 55.698215, 'longitude': 37.511066}               False   \n",
       "525  {'latitude': 59.870759, 'longitude': 29.858937}               False   \n",
       "\n",
       "                                     name  payment_available  price  \\\n",
       "72                              Шотландцы              False      0   \n",
       "137                               Куколка              False      0   \n",
       "211                                 Обувь              False      0   \n",
       "214                      Халаты для дома.              False      0   \n",
       "324                        Мягкие игрушки              False      0   \n",
       "359  Пюре цв.капуста и трусики \"Кораблик\"              False      0   \n",
       "397                           Пакет вещей              False      0   \n",
       "426               Набор для новорожденных              False      0   \n",
       "519                           Каши и пюре              False      0   \n",
       "525                          Вещи пакетом              False      0   \n",
       "\n",
       "     subcategory subway  \n",
       "72           503    NaN  \n",
       "137         1704    NaN  \n",
       "211         2209    NaN  \n",
       "214          901    NaN  \n",
       "324          314    NaN  \n",
       "359          311    NaN  \n",
       "397          901    NaN  \n",
       "426         2201    NaN  \n",
       "519          311    NaN  \n",
       "525          907    NaN  "
      ]
     },
     "execution_count": 10,
     "metadata": {},
     "output_type": "execute_result"
    }
   ],
   "source": [
    "df_train[df_train['price'] <= 0].head(10)"
   ]
  },
  {
   "cell_type": "code",
   "execution_count": 11,
   "metadata": {},
   "outputs": [
    {
     "ename": "NameError",
     "evalue": "name 'loc_to_cord' is not defined",
     "output_type": "error",
     "traceback": [
      "\u001b[1;31m---------------------------------------------------------------------------\u001b[0m",
      "\u001b[1;31mNameError\u001b[0m                                 Traceback (most recent call last)",
      "\u001b[1;32m<ipython-input-11-1e760ea6a1e3>\u001b[0m in \u001b[0;36m<module>\u001b[1;34m()\u001b[0m\n\u001b[1;32m----> 1\u001b[1;33m \u001b[0mdf_train\u001b[0m\u001b[1;33m[\u001b[0m\u001b[1;34m'location'\u001b[0m\u001b[1;33m]\u001b[0m\u001b[1;33m.\u001b[0m\u001b[0mmap\u001b[0m\u001b[1;33m(\u001b[0m\u001b[0mloc_to_cord\u001b[0m\u001b[1;33m)\u001b[0m\u001b[1;33m.\u001b[0m\u001b[0mvalue_counts\u001b[0m\u001b[1;33m(\u001b[0m\u001b[1;33m)\u001b[0m\u001b[1;33m\u001b[0m\u001b[0m\n\u001b[0m",
      "\u001b[1;31mNameError\u001b[0m: name 'loc_to_cord' is not defined"
     ]
    }
   ],
   "source": [
    "df_train['location'].map(loc_to_cord).value_counts()"
   ]
  },
  {
   "cell_type": "code",
   "execution_count": null,
   "metadata": {},
   "outputs": [],
   "source": []
  },
  {
   "cell_type": "code",
   "execution_count": null,
   "metadata": {},
   "outputs": [],
   "source": [
    "len(df_train[df_train['price'] <= 0])"
   ]
  },
  {
   "cell_type": "code",
   "execution_count": null,
   "metadata": {},
   "outputs": [],
   "source": [
    "df_train['free'] = df_train['description'].str.lower().apply(lambda x: 1 if 'отдам' in x else 0)\n",
    "print(len(df_train.query('free == 1 & price <=0')))\n",
    "df_train.drop(['free'], axis=1, inplace=True)"
   ]
  },
  {
   "cell_type": "code",
   "execution_count": null,
   "metadata": {},
   "outputs": [],
   "source": [
    "ast.literal_eval(str(df_train[df_train['price'] <= 0]['fields'][29]))"
   ]
  },
  {
   "cell_type": "code",
   "execution_count": null,
   "metadata": {},
   "outputs": [],
   "source": [
    "def json_parse(f):\n",
    "    return ast.literal_eval(f)\n",
    "def parse_field(id_val, f):\n",
    "    info = ''\n",
    "    info = info + f[0]['field']['name'] + ' ' + f[1]['field']['name']\n",
    "    \n",
    "    for i in range(0, len(f)):\n",
    "        if f[i]['values']:\n",
    "            info = info + ' ' + f[i]['field']['name'] + ' ' + f[i]['values'][0]['selected_value']['value']\n",
    "            #+ ', ' + str() + ' ' + str(f[i]['values'][0]['selected_value']['value'])\n",
    "    return info"
   ]
  },
  {
   "cell_type": "code",
   "execution_count": null,
   "metadata": {},
   "outputs": [],
   "source": [
    "pd.DataFrame([parse_field(df_train['id'].values[i], json_parse(df_train['fields'].values[i])) for i in range(0, 10)])"
   ]
  },
  {
   "cell_type": "code",
   "execution_count": null,
   "metadata": {},
   "outputs": [],
   "source": []
  },
  {
   "cell_type": "code",
   "execution_count": null,
   "metadata": {},
   "outputs": [],
   "source": []
  },
  {
   "cell_type": "code",
   "execution_count": 3,
   "metadata": {},
   "outputs": [
    {
     "name": "stdout",
     "output_type": "stream",
     "text": [
      "Wall time: 3min 14s\n"
     ]
    }
   ],
   "source": [
    "%%time\n",
    "df_train = pd.read_pickle(r'E:/data/ds/hak/train_hack.pckl.zip')"
   ]
  },
  {
   "cell_type": "code",
   "execution_count": 4,
   "metadata": {},
   "outputs": [],
   "source": [
    "def get_date_features(df):\n",
    "    df['datetime'] = pd.to_datetime(df['date_created'], unit='s')\n",
    "    df['year'] = df.loc[:, 'datetime'].dt.year\n",
    "    #df = pd.get_dummies(df, columns=['year',], prefix='year_')\n",
    "    df['month'] = df.loc[:, 'datetime'].dt.month\n",
    "    #df = pd.get_dummies(df, columns=['month',], prefix='month_')\n",
    "    #df['day'] = df.loc[:, 'datetime'].dt.day\n",
    "    df['hour'] = df.loc[:, 'datetime'].dt.hour\n",
    "    #df = pd.get_dummies(df, columns=['hour',], prefix='hour_')\n",
    "    df['weekday'] = df.loc[:, 'datetime'].dt.weekday\n",
    "    #df = pd.get_dummies(df, columns=['weekday',], prefix='weekday_')\n",
    "    #df.drop(['datetime',],axis = 1, inplace=True)\n",
    "    return df\n",
    "\n",
    "# уберем пунктуацию\n",
    "def clean_p(data):\n",
    "    clean_re = re.compile('[^\\w\\s]')\n",
    "    cleantext = re.sub(clean_re, ' ', data)\n",
    "    cleantext = cleantext.replace(\"  \", \" \")\n",
    "    cleantext = cleantext.replace(\"   \", \" \")\n",
    "    return cleantext\n",
    "\n",
    "def loc_to_cord(x):\n",
    "    lng = str(int(round(x['longitude'],0)))\n",
    "\n",
    "    lat = str(int(round(x['latitude'],0)))\n",
    "\n",
    "    return 'lo' + lng + 'la' + lat\n",
    "\n",
    "#df_sample['coord'] = df_sample['location'].map(loc_to_cord)\n",
    "\n",
    "def json_parse(f):\n",
    "    return ast.literal_eval(f)\n",
    "def parse_field(id_val, f):\n",
    "    info = ''\n",
    "    info = info + f[0]['field']['name'] + ' ' + f[1]['field']['name']\n",
    "    \n",
    "    for i in range(0, len(f)):\n",
    "        if f[i]['values']:\n",
    "            info = info + ' ' + f[i]['field']['name'] + ' ' + f[i]['values'][0]['selected_value']['value']\n",
    "            #+ ', ' + str() + ' ' + str(f[i]['values'][0]['selected_value']['value'])\n",
    "    return info"
   ]
  },
  {
   "cell_type": "code",
   "execution_count": 5,
   "metadata": {},
   "outputs": [],
   "source": [
    "def preproc_data_step_1 (df_output):\n",
    "    #df_output = df_input.copy() # memory\n",
    "    \n",
    "    df_output = get_date_features(df_output)\n",
    "    \n",
    "    #df_output['price'] = df_output['price']/100\n",
    "    \n",
    "    # good try ;)\n",
    "    df_output.drop(['can_buy', 'can_promote', 'contacts_visible', 'mortgage_available'], axis = 1, inplace=True)\n",
    "    \n",
    "    df_output['delivery_available'] = df_output['delivery_available'].apply(lambda x: 1 if x is True else 0)\n",
    "    df_output['payment_available'] = df_output['payment_available'].apply(lambda x: 1 if x is True else 0)\n",
    "    \n",
    "    #df_output = pd.get_dummies(df_output, columns=['category',], prefix='category_')\n",
    "    #df_output = pd.get_dummies(df_output, columns=['subcategory',], prefix='subcategory_')\n",
    "    \n",
    "    # количество картинок\n",
    "    df_output['images_len'] = df_output['images'].str.len()\n",
    "    df_output.drop(['images'], axis=1, inplace=True)\n",
    "    \n",
    "    # Lover\n",
    "    df_output['name'] = df_output['name'].str.lower()\n",
    "    df_output['description'] = df_output['description'].str.lower()\n",
    "    # Clean\n",
    "    df_output['description'] = df_output['description'].apply(lambda x: clean_p(x))\n",
    "    df_output['name'] = df_output['name'].apply(lambda x: clean_p(x))\n",
    "    \n",
    "    # mb zero\n",
    "    df_output['free_price'] = df_output['description'].apply(lambda x: 1 if 'отдам' in x else 0)\n",
    "    \n",
    "    # \n",
    "    df_output['loct'] = df_output['location'].map(loc_to_cord)\n",
    "    \n",
    "    #df_output['fields_mod'] = pd.DataFrame([parse_field(df_train['id'].values[i], json_parse(df_train['fields'].values[i])) for i in range(0, len(df_train['fields'].values))])\n",
    "    \n",
    "    df_output.drop(['date_created', 'datetime', 'fields', 'id', 'location', 'subway',], axis = 1, inplace=True)\n",
    "    \n",
    "    # дропаем повторные размещения\n",
    "    #columns_tmp = list(df_output.columns)\n",
    "    #columns_tmp.remove('price')\n",
    "    #df_output.drop_duplicates(subset=columns_tmp, keep='last', inplace=True)\n",
    "    \n",
    "    return df_output"
   ]
  },
  {
   "cell_type": "code",
   "execution_count": 6,
   "metadata": {},
   "outputs": [
    {
     "name": "stdout",
     "output_type": "stream",
     "text": [
      "<class 'pandas.core.frame.DataFrame'>\n",
      "Int64Index: 1748890 entries, 0 to 99930\n",
      "Data columns (total 14 columns):\n",
      "category              int64\n",
      "delivery_available    int64\n",
      "description           object\n",
      "name                  object\n",
      "payment_available     int64\n",
      "price                 int64\n",
      "subcategory           int64\n",
      "year                  int64\n",
      "month                 int64\n",
      "hour                  int64\n",
      "weekday               int64\n",
      "images_len            int64\n",
      "free_price            int64\n",
      "loct                  object\n",
      "dtypes: int64(11), object(3)\n",
      "memory usage: 200.1+ MB\n",
      "Wall time: 23.3 s\n"
     ]
    }
   ],
   "source": [
    "%%time\n",
    "df_preproc = preproc_data_step_1(df_train)\n",
    "df_preproc.info()\n",
    "#del df_train\n",
    "#gc.collect()"
   ]
  },
  {
   "cell_type": "code",
   "execution_count": null,
   "metadata": {},
   "outputs": [],
   "source": [
    "#df_preproc['price'] = df_preproc['price']/100"
   ]
  },
  {
   "cell_type": "code",
   "execution_count": 7,
   "metadata": {},
   "outputs": [
    {
     "data": {
      "text/html": [
       "<div>\n",
       "<style scoped>\n",
       "    .dataframe tbody tr th:only-of-type {\n",
       "        vertical-align: middle;\n",
       "    }\n",
       "\n",
       "    .dataframe tbody tr th {\n",
       "        vertical-align: top;\n",
       "    }\n",
       "\n",
       "    .dataframe thead th {\n",
       "        text-align: right;\n",
       "    }\n",
       "</style>\n",
       "<table border=\"1\" class=\"dataframe\">\n",
       "  <thead>\n",
       "    <tr style=\"text-align: right;\">\n",
       "      <th></th>\n",
       "      <th>category</th>\n",
       "      <th>delivery_available</th>\n",
       "      <th>description</th>\n",
       "      <th>name</th>\n",
       "      <th>payment_available</th>\n",
       "      <th>price</th>\n",
       "      <th>subcategory</th>\n",
       "      <th>year</th>\n",
       "      <th>month</th>\n",
       "      <th>hour</th>\n",
       "      <th>weekday</th>\n",
       "      <th>images_len</th>\n",
       "      <th>free_price</th>\n",
       "      <th>loct</th>\n",
       "    </tr>\n",
       "  </thead>\n",
       "  <tbody>\n",
       "    <tr>\n",
       "      <th>0</th>\n",
       "      <td>9</td>\n",
       "      <td>0</td>\n",
       "      <td></td>\n",
       "      <td>сумка dg</td>\n",
       "      <td>1</td>\n",
       "      <td>199900</td>\n",
       "      <td>914</td>\n",
       "      <td>2017</td>\n",
       "      <td>4</td>\n",
       "      <td>13</td>\n",
       "      <td>4</td>\n",
       "      <td>1</td>\n",
       "      <td>0</td>\n",
       "      <td>lo38la56</td>\n",
       "    </tr>\n",
       "    <tr>\n",
       "      <th>1</th>\n",
       "      <td>22</td>\n",
       "      <td>0</td>\n",
       "      <td>8 12 лет</td>\n",
       "      <td>комплект</td>\n",
       "      <td>0</td>\n",
       "      <td>35000</td>\n",
       "      <td>2202</td>\n",
       "      <td>2016</td>\n",
       "      <td>10</td>\n",
       "      <td>20</td>\n",
       "      <td>1</td>\n",
       "      <td>1</td>\n",
       "      <td>0</td>\n",
       "      <td>lo38la56</td>\n",
       "    </tr>\n",
       "    <tr>\n",
       "      <th>2</th>\n",
       "      <td>22</td>\n",
       "      <td>0</td>\n",
       "      <td>на девочку 1 5 г состояние хорошее</td>\n",
       "      <td>пальтишко демисезонное</td>\n",
       "      <td>0</td>\n",
       "      <td>30000</td>\n",
       "      <td>2204</td>\n",
       "      <td>2016</td>\n",
       "      <td>9</td>\n",
       "      <td>15</td>\n",
       "      <td>6</td>\n",
       "      <td>4</td>\n",
       "      <td>0</td>\n",
       "      <td>lo37la56</td>\n",
       "    </tr>\n",
       "    <tr>\n",
       "      <th>3</th>\n",
       "      <td>22</td>\n",
       "      <td>0</td>\n",
       "      <td>размер 135mm euro 22 5 прочная мягкая не сколь...</td>\n",
       "      <td>attipas</td>\n",
       "      <td>1</td>\n",
       "      <td>80000</td>\n",
       "      <td>2209</td>\n",
       "      <td>2016</td>\n",
       "      <td>10</td>\n",
       "      <td>21</td>\n",
       "      <td>2</td>\n",
       "      <td>3</td>\n",
       "      <td>0</td>\n",
       "      <td>lo37la56</td>\n",
       "    </tr>\n",
       "    <tr>\n",
       "      <th>5</th>\n",
       "      <td>22</td>\n",
       "      <td>0</td>\n",
       "      <td></td>\n",
       "      <td>жилет теплый</td>\n",
       "      <td>1</td>\n",
       "      <td>50000</td>\n",
       "      <td>2204</td>\n",
       "      <td>2017</td>\n",
       "      <td>8</td>\n",
       "      <td>11</td>\n",
       "      <td>2</td>\n",
       "      <td>4</td>\n",
       "      <td>0</td>\n",
       "      <td>lo30la60</td>\n",
       "    </tr>\n",
       "  </tbody>\n",
       "</table>\n",
       "</div>"
      ],
      "text/plain": [
       "   category  delivery_available  \\\n",
       "0         9                   0   \n",
       "1        22                   0   \n",
       "2        22                   0   \n",
       "3        22                   0   \n",
       "5        22                   0   \n",
       "\n",
       "                                         description                    name  \\\n",
       "0                                                                   сумка dg   \n",
       "1                                           8 12 лет                комплект   \n",
       "2                на девочку 1 5 г состояние хорошее   пальтишко демисезонное   \n",
       "3  размер 135mm euro 22 5 прочная мягкая не сколь...                 attipas   \n",
       "5                                                               жилет теплый   \n",
       "\n",
       "   payment_available   price  subcategory  year  month  hour  weekday  \\\n",
       "0                  1  199900          914  2017      4    13        4   \n",
       "1                  0   35000         2202  2016     10    20        1   \n",
       "2                  0   30000         2204  2016      9    15        6   \n",
       "3                  1   80000         2209  2016     10    21        2   \n",
       "5                  1   50000         2204  2017      8    11        2   \n",
       "\n",
       "   images_len  free_price      loct  \n",
       "0           1           0  lo38la56  \n",
       "1           1           0  lo38la56  \n",
       "2           4           0  lo37la56  \n",
       "3           3           0  lo37la56  \n",
       "5           4           0  lo30la60  "
      ]
     },
     "execution_count": 7,
     "metadata": {},
     "output_type": "execute_result"
    }
   ],
   "source": [
    "df_preproc.head(5)"
   ]
  },
  {
   "cell_type": "code",
   "execution_count": 8,
   "metadata": {},
   "outputs": [],
   "source": [
    "## TargetEncoder ?"
   ]
  },
  {
   "cell_type": "code",
   "execution_count": 9,
   "metadata": {},
   "outputs": [],
   "source": [
    "# Train Test \n",
    "HOLOUT_LINE = len(df_preproc)-(len(df_preproc)//10)\n",
    "#X_train = df_preproc[:HOLOUT_LINE]\n",
    "#X_test = df_preproc[HOLOUT_LINE:]\n",
    "\n",
    "feature_colnames = ['category',\n",
    "                    #'subcategory'\n",
    "                   ]\n",
    "target = 'price'\n",
    "\n",
    "for colname in feature_colnames:\n",
    "    tmp_data = df_preproc[[colname, target]][:HOLOUT_LINE]\n",
    "    # median\n",
    "    target_means = tmp_data.groupby(colname).median()\n",
    "    mapping = target_means.to_dict()[target]\n",
    "    df_preproc[colname+'_TargetEnc_median'] = df_preproc[colname]\n",
    "    df_preproc[colname+'_TargetEnc_median'] = df_preproc[colname+'_TargetEnc_median'].map(mapping)\n",
    "    # std\n",
    "    target_std = tmp_data.groupby(colname).std()\n",
    "    mapping_std = target_std.to_dict()[target]\n",
    "    df_preproc[colname+'_TargetEnc_std'] = df_preproc[colname]\n",
    "    df_preproc[colname+'_TargetEnc_std'] = df_preproc[colname+'_TargetEnc_std'].map(mapping_std)"
   ]
  },
  {
   "cell_type": "code",
   "execution_count": 10,
   "metadata": {},
   "outputs": [],
   "source": [
    "y = df_preproc.price.values\n",
    "X = df_preproc.drop(['price'], axis=1)\n",
    "X_train = X[:HOLOUT_LINE]\n",
    "y_train = y[:HOLOUT_LINE]\n",
    "X_test = X[HOLOUT_LINE:]\n",
    "y_test = y[HOLOUT_LINE:]"
   ]
  },
  {
   "cell_type": "code",
   "execution_count": 11,
   "metadata": {},
   "outputs": [
    {
     "name": "stdout",
     "output_type": "stream",
     "text": [
      "<class 'pandas.core.frame.DataFrame'>\n",
      "Int64Index: 1574001 entries, 0 to 49473\n",
      "Data columns (total 15 columns):\n",
      "category                     1574001 non-null int64\n",
      "delivery_available           1574001 non-null int64\n",
      "description                  1574001 non-null object\n",
      "name                         1574001 non-null object\n",
      "payment_available            1574001 non-null int64\n",
      "subcategory                  1574001 non-null int64\n",
      "year                         1574001 non-null int64\n",
      "month                        1574001 non-null int64\n",
      "hour                         1574001 non-null int64\n",
      "weekday                      1574001 non-null int64\n",
      "images_len                   1574001 non-null int64\n",
      "free_price                   1574001 non-null int64\n",
      "loct                         1574001 non-null object\n",
      "category_TargetEnc_median    1574001 non-null int64\n",
      "category_TargetEnc_std       1574000 non-null float64\n",
      "dtypes: float64(1), int64(11), object(3)\n",
      "memory usage: 192.1+ MB\n"
     ]
    }
   ],
   "source": [
    "X_train.info(null_counts=True)"
   ]
  },
  {
   "cell_type": "code",
   "execution_count": 12,
   "metadata": {},
   "outputs": [
    {
     "data": {
      "text/html": [
       "<div>\n",
       "<style scoped>\n",
       "    .dataframe tbody tr th:only-of-type {\n",
       "        vertical-align: middle;\n",
       "    }\n",
       "\n",
       "    .dataframe tbody tr th {\n",
       "        vertical-align: top;\n",
       "    }\n",
       "\n",
       "    .dataframe thead th {\n",
       "        text-align: right;\n",
       "    }\n",
       "</style>\n",
       "<table border=\"1\" class=\"dataframe\">\n",
       "  <thead>\n",
       "    <tr style=\"text-align: right;\">\n",
       "      <th></th>\n",
       "      <th>category</th>\n",
       "      <th>delivery_available</th>\n",
       "      <th>description</th>\n",
       "      <th>name</th>\n",
       "      <th>payment_available</th>\n",
       "      <th>subcategory</th>\n",
       "      <th>year</th>\n",
       "      <th>month</th>\n",
       "      <th>hour</th>\n",
       "      <th>weekday</th>\n",
       "      <th>images_len</th>\n",
       "      <th>free_price</th>\n",
       "      <th>loct</th>\n",
       "      <th>category_TargetEnc_median</th>\n",
       "      <th>category_TargetEnc_std</th>\n",
       "    </tr>\n",
       "  </thead>\n",
       "  <tbody>\n",
       "    <tr>\n",
       "      <th>0</th>\n",
       "      <td>9</td>\n",
       "      <td>0</td>\n",
       "      <td></td>\n",
       "      <td>сумка dg</td>\n",
       "      <td>1</td>\n",
       "      <td>914</td>\n",
       "      <td>2017</td>\n",
       "      <td>4</td>\n",
       "      <td>13</td>\n",
       "      <td>4</td>\n",
       "      <td>1</td>\n",
       "      <td>0</td>\n",
       "      <td>lo38la56</td>\n",
       "      <td>50000</td>\n",
       "      <td>2.558626e+09</td>\n",
       "    </tr>\n",
       "    <tr>\n",
       "      <th>1</th>\n",
       "      <td>22</td>\n",
       "      <td>0</td>\n",
       "      <td>8 12 лет</td>\n",
       "      <td>комплект</td>\n",
       "      <td>0</td>\n",
       "      <td>2202</td>\n",
       "      <td>2016</td>\n",
       "      <td>10</td>\n",
       "      <td>20</td>\n",
       "      <td>1</td>\n",
       "      <td>1</td>\n",
       "      <td>0</td>\n",
       "      <td>lo38la56</td>\n",
       "      <td>45000</td>\n",
       "      <td>2.851108e+08</td>\n",
       "    </tr>\n",
       "    <tr>\n",
       "      <th>2</th>\n",
       "      <td>22</td>\n",
       "      <td>0</td>\n",
       "      <td>на девочку 1 5 г состояние хорошее</td>\n",
       "      <td>пальтишко демисезонное</td>\n",
       "      <td>0</td>\n",
       "      <td>2204</td>\n",
       "      <td>2016</td>\n",
       "      <td>9</td>\n",
       "      <td>15</td>\n",
       "      <td>6</td>\n",
       "      <td>4</td>\n",
       "      <td>0</td>\n",
       "      <td>lo37la56</td>\n",
       "      <td>45000</td>\n",
       "      <td>2.851108e+08</td>\n",
       "    </tr>\n",
       "    <tr>\n",
       "      <th>3</th>\n",
       "      <td>22</td>\n",
       "      <td>0</td>\n",
       "      <td>размер 135mm euro 22 5 прочная мягкая не сколь...</td>\n",
       "      <td>attipas</td>\n",
       "      <td>1</td>\n",
       "      <td>2209</td>\n",
       "      <td>2016</td>\n",
       "      <td>10</td>\n",
       "      <td>21</td>\n",
       "      <td>2</td>\n",
       "      <td>3</td>\n",
       "      <td>0</td>\n",
       "      <td>lo37la56</td>\n",
       "      <td>45000</td>\n",
       "      <td>2.851108e+08</td>\n",
       "    </tr>\n",
       "    <tr>\n",
       "      <th>5</th>\n",
       "      <td>22</td>\n",
       "      <td>0</td>\n",
       "      <td></td>\n",
       "      <td>жилет теплый</td>\n",
       "      <td>1</td>\n",
       "      <td>2204</td>\n",
       "      <td>2017</td>\n",
       "      <td>8</td>\n",
       "      <td>11</td>\n",
       "      <td>2</td>\n",
       "      <td>4</td>\n",
       "      <td>0</td>\n",
       "      <td>lo30la60</td>\n",
       "      <td>45000</td>\n",
       "      <td>2.851108e+08</td>\n",
       "    </tr>\n",
       "    <tr>\n",
       "      <th>6</th>\n",
       "      <td>9</td>\n",
       "      <td>0</td>\n",
       "      <td>новые текстильные босоножки 37 размер в размер...</td>\n",
       "      <td>босоножки сабо</td>\n",
       "      <td>0</td>\n",
       "      <td>902</td>\n",
       "      <td>2017</td>\n",
       "      <td>6</td>\n",
       "      <td>14</td>\n",
       "      <td>5</td>\n",
       "      <td>3</td>\n",
       "      <td>0</td>\n",
       "      <td>lo44la56</td>\n",
       "      <td>50000</td>\n",
       "      <td>2.558626e+09</td>\n",
       "    </tr>\n",
       "    <tr>\n",
       "      <th>7</th>\n",
       "      <td>15</td>\n",
       "      <td>0</td>\n",
       "      <td>seagate\\nмодель st320lt020 \\nhdd для ноутбуков...</td>\n",
       "      <td>жесткий диск для ноутбука seagate 320gb</td>\n",
       "      <td>1</td>\n",
       "      <td>1508</td>\n",
       "      <td>2017</td>\n",
       "      <td>3</td>\n",
       "      <td>17</td>\n",
       "      <td>5</td>\n",
       "      <td>1</td>\n",
       "      <td>0</td>\n",
       "      <td>lo39la52</td>\n",
       "      <td>199000</td>\n",
       "      <td>1.151533e+09</td>\n",
       "    </tr>\n",
       "    <tr>\n",
       "      <th>8</th>\n",
       "      <td>4</td>\n",
       "      <td>0</td>\n",
       "      <td>состояние отличное без дефектов</td>\n",
       "      <td>ковер 324 на 240</td>\n",
       "      <td>1</td>\n",
       "      <td>403</td>\n",
       "      <td>2017</td>\n",
       "      <td>4</td>\n",
       "      <td>10</td>\n",
       "      <td>5</td>\n",
       "      <td>4</td>\n",
       "      <td>0</td>\n",
       "      <td>lo42la45</td>\n",
       "      <td>130000</td>\n",
       "      <td>4.903625e+09</td>\n",
       "    </tr>\n",
       "    <tr>\n",
       "      <th>10</th>\n",
       "      <td>3</td>\n",
       "      <td>0</td>\n",
       "      <td>продам кенгуру 350  ванночка с горкой 250</td>\n",
       "      <td>кенгуру</td>\n",
       "      <td>0</td>\n",
       "      <td>301</td>\n",
       "      <td>2016</td>\n",
       "      <td>12</td>\n",
       "      <td>16</td>\n",
       "      <td>4</td>\n",
       "      <td>3</td>\n",
       "      <td>0</td>\n",
       "      <td>lo50la53</td>\n",
       "      <td>80000</td>\n",
       "      <td>2.696549e+09</td>\n",
       "    </tr>\n",
       "    <tr>\n",
       "      <th>11</th>\n",
       "      <td>2</td>\n",
       "      <td>0</td>\n",
       "      <td></td>\n",
       "      <td>машинка автомат</td>\n",
       "      <td>1</td>\n",
       "      <td>208</td>\n",
       "      <td>2016</td>\n",
       "      <td>11</td>\n",
       "      <td>9</td>\n",
       "      <td>2</td>\n",
       "      <td>2</td>\n",
       "      <td>0</td>\n",
       "      <td>lo85la54</td>\n",
       "      <td>245000</td>\n",
       "      <td>2.500472e+09</td>\n",
       "    </tr>\n",
       "  </tbody>\n",
       "</table>\n",
       "</div>"
      ],
      "text/plain": [
       "    category  delivery_available  \\\n",
       "0          9                   0   \n",
       "1         22                   0   \n",
       "2         22                   0   \n",
       "3         22                   0   \n",
       "5         22                   0   \n",
       "6          9                   0   \n",
       "7         15                   0   \n",
       "8          4                   0   \n",
       "10         3                   0   \n",
       "11         2                   0   \n",
       "\n",
       "                                          description  \\\n",
       "0                                                       \n",
       "1                                            8 12 лет   \n",
       "2                 на девочку 1 5 г состояние хорошее    \n",
       "3   размер 135mm euro 22 5 прочная мягкая не сколь...   \n",
       "5                                                       \n",
       "6   новые текстильные босоножки 37 размер в размер...   \n",
       "7   seagate\\nмодель st320lt020 \\nhdd для ноутбуков...   \n",
       "8                     состояние отличное без дефектов   \n",
       "10          продам кенгуру 350  ванночка с горкой 250   \n",
       "11                                                      \n",
       "\n",
       "                                       name  payment_available  subcategory  \\\n",
       "0                                  сумка dg                  1          914   \n",
       "1                                  комплект                  0         2202   \n",
       "2                    пальтишко демисезонное                  0         2204   \n",
       "3                                   attipas                  1         2209   \n",
       "5                              жилет теплый                  1         2204   \n",
       "6                            босоножки сабо                  0          902   \n",
       "7   жесткий диск для ноутбука seagate 320gb                  1         1508   \n",
       "8                          ковер 324 на 240                  1          403   \n",
       "10                                  кенгуру                  0          301   \n",
       "11                          машинка автомат                  1          208   \n",
       "\n",
       "    year  month  hour  weekday  images_len  free_price      loct  \\\n",
       "0   2017      4    13        4           1           0  lo38la56   \n",
       "1   2016     10    20        1           1           0  lo38la56   \n",
       "2   2016      9    15        6           4           0  lo37la56   \n",
       "3   2016     10    21        2           3           0  lo37la56   \n",
       "5   2017      8    11        2           4           0  lo30la60   \n",
       "6   2017      6    14        5           3           0  lo44la56   \n",
       "7   2017      3    17        5           1           0  lo39la52   \n",
       "8   2017      4    10        5           4           0  lo42la45   \n",
       "10  2016     12    16        4           3           0  lo50la53   \n",
       "11  2016     11     9        2           2           0  lo85la54   \n",
       "\n",
       "    category_TargetEnc_median  category_TargetEnc_std  \n",
       "0                       50000            2.558626e+09  \n",
       "1                       45000            2.851108e+08  \n",
       "2                       45000            2.851108e+08  \n",
       "3                       45000            2.851108e+08  \n",
       "5                       45000            2.851108e+08  \n",
       "6                       50000            2.558626e+09  \n",
       "7                      199000            1.151533e+09  \n",
       "8                      130000            4.903625e+09  \n",
       "10                      80000            2.696549e+09  \n",
       "11                     245000            2.500472e+09  "
      ]
     },
     "execution_count": 12,
     "metadata": {},
     "output_type": "execute_result"
    }
   ],
   "source": [
    "X_train.head(10)"
   ]
  },
  {
   "cell_type": "code",
   "execution_count": null,
   "metadata": {},
   "outputs": [],
   "source": []
  },
  {
   "cell_type": "code",
   "execution_count": null,
   "metadata": {},
   "outputs": [],
   "source": []
  },
  {
   "cell_type": "markdown",
   "metadata": {},
   "source": [
    "# VW"
   ]
  },
  {
   "cell_type": "code",
   "execution_count": null,
   "metadata": {},
   "outputs": [],
   "source": []
  },
  {
   "cell_type": "code",
   "execution_count": 13,
   "metadata": {},
   "outputs": [],
   "source": [
    "def to_vw_format(category, \n",
    "                 subcategory, \n",
    "                 year,\n",
    "                 payment_available,\n",
    "                 #delivery_available,\n",
    "                 free_price,\n",
    "                 loct,\n",
    "                 #category_TargetEnc_median,\n",
    "                 name, \n",
    "                 description,\n",
    "                 label=None):\n",
    "      return str(label or '') + ' |category ' + category \\\n",
    "                            + ' |subcategory ' + subcategory \\\n",
    "                            + ' |year ' + year \\\n",
    "                            + ' |payment_available ' + payment_available \\\n",
    "                            + ' |free_price  ' +  free_price \\\n",
    "                            + ' |loct  ' +  loct  \\\n",
    "                            + ' |name ' + ' '.join(re.findall('\\w{3,}', name)) \\\n",
    "                            + ' |description ' + ' '.join(re.findall('\\w{3,}', description)) \\\n",
    "                            + '\\n'"
   ]
  },
  {
   "cell_type": "code",
   "execution_count": 14,
   "metadata": {},
   "outputs": [
    {
     "name": "stdout",
     "output_type": "stream",
     "text": [
      "Wall time: 21.6 s\n"
     ]
    }
   ],
   "source": [
    "%%time\n",
    "# Convert and save in vowpal wabbit format\n",
    "def to_vw_file(X_train, y_train, name='cv_reviews_train.vw'):\n",
    "    with open(name, 'w', encoding='utf-8') as vw_train_data:\n",
    "        for category, \\\n",
    "            subcategory, \\\n",
    "            year, \\\n",
    "            payment_available, \\\n",
    "            free_price, \\\n",
    "            loct, \\\n",
    "            name, \\\n",
    "            description, \\\n",
    "            target \\\n",
    "            in zip(X_train['category'], \n",
    "                   X_train['subcategory'],\n",
    "                   X_train['year'], \n",
    "                   X_train['payment_available'],\n",
    "                   #X_train['delivery_available'],\n",
    "                   X_train['free_price'],\n",
    "                   X_train['loct'],\n",
    "                   #X_train['category_TargetEnc_median'],\n",
    "                   X_train['name'], \n",
    "                   X_train['description'], \n",
    "                   y_train):\n",
    "                vw_train_data.write(to_vw_format(str(category), \n",
    "                                                 str(subcategory), \n",
    "                                                 str(year), \n",
    "                                                 str(payment_available), \n",
    "                                                 #str(delivery_available), \n",
    "                                                 str(free_price),\n",
    "                                                 str(loct),\n",
    "                                                 #str(category_TargetEnc_median),\n",
    "                                                 str(name), \n",
    "                                                 str(description), \n",
    "                                                 target))\n",
    "                \n",
    "to_vw_file(X_train, y_train, name='cv_reviews_train_3.vw')\n",
    "to_vw_file(X_test, y_train, name='cv_reviews_valid_3.vw')"
   ]
  },
  {
   "cell_type": "code",
   "execution_count": 15,
   "metadata": {},
   "outputs": [
    {
     "name": "stdout",
     "output_type": "stream",
     "text": [
      "Wall time: 7min 53s\n"
     ]
    },
    {
     "name": "stderr",
     "output_type": "stream",
     "text": [
      "Generating 2-grams for all namespaces.\n",
      "final_regressor = cv_reviews_model.vw\n",
      "Num weight bits = 28\n",
      "learning rate = 0.5\n",
      "initial_t = 0\n",
      "power_t = 0.5\n",
      "decay_learning_rate = 1\n",
      "creating cache_file = cv_reviews_train_3.vw.cache\n",
      "Reading datafile = cv_reviews_train_3.vw\n",
      "num sources = 1\n",
      "average  since         example        example  current  current  current\n",
      "loss     last          counter         weight    label  predict features\n",
      "99950.000000 99950.000000            1            1.0 199900.0000   0.0000        8\n",
      "58724.873047 17499.746094            2            2.0 35000.0000   0.5078        9\n",
      "43112.237549 27499.602051            4            4.0 80000.0000   0.8769      115\n",
      "48430.825562 53749.413574            8            8.0 200000.0000   1.3747       19\n",
      "80308.488342 112186.151123           16           16.0 250000.0000   4.6335       59\n",
      "99869.863388 119431.238434           32           32.0 40000.0000  27.4316       27\n",
      "88153.223850 76058.628197           64           64.0 100000.0000 118.1327       17\n",
      "137553.017163 186952.810476          128          128.0 749000.0000 248.8226       81\n",
      "222046.377758 307902.534492          256          256.0 100000.0000 364.3803       13\n",
      "379396.718172 537378.987664          512          512.0 200000.0000 498.2791       13\n",
      "325327.384514 270931.018595         1024         1024.0 30000.0000 669.8171        8\n",
      "440182.048695 555850.460497         2048         2048.0 15000.0000 907.8408       39\n",
      "563869.075254 687245.017741         4096         4096.0 450000.0000 1236.4874       73\n",
      "518547.514791 473260.167887         8192         8192.0 90000.0000 1705.8712      115\n",
      "3714995.971531 6916683.186458        16384        16384.0 25000.0000 2377.4148       17\n",
      "7259822.161271 10780698.321077        32768        32768.0 30000.0000 3346.9299       17\n",
      "5344846.927258 3428187.352396        65536        65536.0 30000.0000 4703.5098       15\n",
      "10589958.028979 15834739.767366       131072       131072.0 50000.0000 6530.0078       35\n",
      "10453654.347361 10317352.805551       262144       262144.0 10000.0000 9022.4580       11\n",
      "17561380.487865 24666234.504366       524288       524288.0 15000.0000 12304.3809       23\n",
      "14753889.884020 11945627.917377      1048576      1048576.0 700000.0000 16802.4785       21\n",
      "15770564.221576 16786959.341210      2097152      2097152.0 10000.0000 12441.6885       19\n",
      "15066635.737570 14362658.912117      4194304      4194304.0 960000.0000 31953.5039       21\n",
      "\n",
      "finished run\n",
      "number of examples per pass = 1574001\n",
      "passes used = 5\n",
      "weighted example sum = 7870005.000000\n",
      "weighted label sum = 232144763478930.000000\n",
      "average loss = 15159025.349377\n",
      "total feature number = 259054860\n"
     ]
    }
   ],
   "source": [
    "%%time\n",
    "# Fitting a logistic regression for predicting the sentiment of a review\n",
    "!vw cv_reviews_train_3.vw -f cv_reviews_model.vw --random_seed 42 --holdout_off -b 28 \\\n",
    "--sgd --adaptive --normalized --invariant \\\n",
    "--loss_function=quantile \\\n",
    "--nn 100 \\\n",
    "--passes 5 -k -c \\\n",
    "--ngram 2"
   ]
  },
  {
   "cell_type": "code",
   "execution_count": 16,
   "metadata": {},
   "outputs": [
    {
     "name": "stdout",
     "output_type": "stream",
     "text": [
      "inf\n",
      "inf\n"
     ]
    },
    {
     "name": "stderr",
     "output_type": "stream",
     "text": [
      "C:\\ProgramData\\Anaconda3\\lib\\site-packages\\ipykernel_launcher.py:9: RuntimeWarning: divide by zero encountered in log\n",
      "  if __name__ == '__main__':\n",
      "C:\\ProgramData\\Anaconda3\\lib\\site-packages\\ipykernel_launcher.py:12: RuntimeWarning: divide by zero encountered in log\n",
      "  if sys.path[0] == '':\n"
     ]
    }
   ],
   "source": [
    "!vw -i cv_reviews_model.vw -t -d cv_reviews_valid_3.vw -p cv_valid_pred_3.txt --quiet\n",
    "with open('cv_valid_pred_3.txt') as pred_file:\n",
    "    validation_prediction = [float(label) for label in pred_file.readlines()]\n",
    "validation_prediction = np.array(validation_prediction)\n",
    "print(rmsle(y_test, validation_prediction))\n",
    "print(rlmse_score(y_test, validation_prediction))"
   ]
  },
  {
   "cell_type": "code",
   "execution_count": 17,
   "metadata": {},
   "outputs": [
    {
     "data": {
      "text/plain": [
       "array([0., 0., 0., ..., 0., 0., 0.])"
      ]
     },
     "execution_count": 17,
     "metadata": {},
     "output_type": "execute_result"
    }
   ],
   "source": [
    "np.zeros(len(y_train))"
   ]
  },
  {
   "cell_type": "code",
   "execution_count": 18,
   "metadata": {},
   "outputs": [],
   "source": [
    "y_train_z = np.zeros(len(y_train))"
   ]
  },
  {
   "cell_type": "code",
   "execution_count": 19,
   "metadata": {},
   "outputs": [],
   "source": [
    "to_vw_file(X_test, y_train_z, name='cv_reviews_valid.vw')"
   ]
  },
  {
   "cell_type": "code",
   "execution_count": 20,
   "metadata": {},
   "outputs": [
    {
     "name": "stdout",
     "output_type": "stream",
     "text": [
      "inf\n",
      "inf\n"
     ]
    },
    {
     "name": "stderr",
     "output_type": "stream",
     "text": [
      "C:\\ProgramData\\Anaconda3\\lib\\site-packages\\ipykernel_launcher.py:9: RuntimeWarning: divide by zero encountered in log\n",
      "  if __name__ == '__main__':\n",
      "C:\\ProgramData\\Anaconda3\\lib\\site-packages\\ipykernel_launcher.py:12: RuntimeWarning: divide by zero encountered in log\n",
      "  if sys.path[0] == '':\n"
     ]
    }
   ],
   "source": [
    "!vw -i cv_reviews_model.vw -t -d cv_reviews_valid.vw -p cv_valid_pred.txt --quiet\n",
    "with open('cv_valid_pred.txt') as pred_file:\n",
    "    validation_prediction = [float(label) for label in pred_file.readlines()]\n",
    "validation_prediction = np.array(validation_prediction)\n",
    "print(rmsle(y_test, validation_prediction))\n",
    "print(rlmse_score(y_test, validation_prediction))"
   ]
  },
  {
   "cell_type": "code",
   "execution_count": null,
   "metadata": {},
   "outputs": [],
   "source": []
  },
  {
   "cell_type": "code",
   "execution_count": null,
   "metadata": {},
   "outputs": [],
   "source": []
  },
  {
   "cell_type": "code",
   "execution_count": null,
   "metadata": {},
   "outputs": [],
   "source": []
  },
  {
   "cell_type": "markdown",
   "metadata": {},
   "source": [
    "# SUBMIT"
   ]
  },
  {
   "cell_type": "code",
   "execution_count": 21,
   "metadata": {},
   "outputs": [
    {
     "data": {
      "text/plain": [
       "331"
      ]
     },
     "execution_count": 21,
     "metadata": {},
     "output_type": "execute_result"
    }
   ],
   "source": [
    "del df_train, X, X_train\n",
    "gc.collect()"
   ]
  },
  {
   "cell_type": "code",
   "execution_count": 35,
   "metadata": {},
   "outputs": [
    {
     "name": "stdout",
     "output_type": "stream",
     "text": [
      "Wall time: 51.8 s\n"
     ]
    }
   ],
   "source": [
    "%%time\n",
    "df_test = pd.read_pickle(r'E:/data/ds/hak/test_hack.pckl')"
   ]
  },
  {
   "cell_type": "code",
   "execution_count": 23,
   "metadata": {},
   "outputs": [
    {
     "name": "stdout",
     "output_type": "stream",
     "text": [
      "<class 'pandas.core.frame.DataFrame'>\n",
      "Int64Index: 749525 entries, 4 to 99931\n",
      "Data columns (total 16 columns):\n",
      "can_buy               749525 non-null bool\n",
      "can_promote           749525 non-null bool\n",
      "category              749525 non-null int64\n",
      "contacts_visible      749525 non-null bool\n",
      "date_created          749525 non-null int64\n",
      "delivery_available    749525 non-null bool\n",
      "description           749525 non-null object\n",
      "fields                749525 non-null object\n",
      "id                    749525 non-null object\n",
      "images                749525 non-null object\n",
      "location              749525 non-null object\n",
      "mortgage_available    749525 non-null bool\n",
      "name                  749525 non-null object\n",
      "payment_available     749525 non-null bool\n",
      "subcategory           749525 non-null int64\n",
      "subway                1210 non-null object\n",
      "dtypes: bool(6), int64(3), object(7)\n",
      "memory usage: 67.2+ MB\n"
     ]
    }
   ],
   "source": [
    "df_test.info()"
   ]
  },
  {
   "cell_type": "code",
   "execution_count": 24,
   "metadata": {},
   "outputs": [
    {
     "name": "stdout",
     "output_type": "stream",
     "text": [
      "<class 'pandas.core.frame.DataFrame'>\n",
      "Int64Index: 749525 entries, 4 to 99931\n",
      "Data columns (total 13 columns):\n",
      "category              749525 non-null int64\n",
      "delivery_available    749525 non-null int64\n",
      "description           749525 non-null object\n",
      "name                  749525 non-null object\n",
      "payment_available     749525 non-null int64\n",
      "subcategory           749525 non-null int64\n",
      "year                  749525 non-null int64\n",
      "month                 749525 non-null int64\n",
      "hour                  749525 non-null int64\n",
      "weekday               749525 non-null int64\n",
      "images_len            749525 non-null int64\n",
      "free_price            749525 non-null int64\n",
      "loct                  749525 non-null object\n",
      "dtypes: int64(10), object(3)\n",
      "memory usage: 80.1+ MB\n",
      "Wall time: 11.8 s\n"
     ]
    }
   ],
   "source": [
    "%%time\n",
    "df_preproc = preproc_data_step_1(df_test)\n",
    "df_preproc.info()"
   ]
  },
  {
   "cell_type": "code",
   "execution_count": 25,
   "metadata": {},
   "outputs": [
    {
     "data": {
      "text/html": [
       "<div>\n",
       "<style scoped>\n",
       "    .dataframe tbody tr th:only-of-type {\n",
       "        vertical-align: middle;\n",
       "    }\n",
       "\n",
       "    .dataframe tbody tr th {\n",
       "        vertical-align: top;\n",
       "    }\n",
       "\n",
       "    .dataframe thead th {\n",
       "        text-align: right;\n",
       "    }\n",
       "</style>\n",
       "<table border=\"1\" class=\"dataframe\">\n",
       "  <thead>\n",
       "    <tr style=\"text-align: right;\">\n",
       "      <th></th>\n",
       "      <th>category</th>\n",
       "      <th>delivery_available</th>\n",
       "      <th>description</th>\n",
       "      <th>name</th>\n",
       "      <th>payment_available</th>\n",
       "      <th>subcategory</th>\n",
       "      <th>year</th>\n",
       "      <th>month</th>\n",
       "      <th>hour</th>\n",
       "      <th>weekday</th>\n",
       "      <th>images_len</th>\n",
       "      <th>free_price</th>\n",
       "      <th>loct</th>\n",
       "    </tr>\n",
       "  </thead>\n",
       "  <tbody>\n",
       "    <tr>\n",
       "      <th>4</th>\n",
       "      <td>6</td>\n",
       "      <td>1</td>\n",
       "      <td>стремянка трехсекционная 3 4</td>\n",
       "      <td>стремянка</td>\n",
       "      <td>1</td>\n",
       "      <td>603</td>\n",
       "      <td>2018</td>\n",
       "      <td>1</td>\n",
       "      <td>14</td>\n",
       "      <td>5</td>\n",
       "      <td>3</td>\n",
       "      <td>0</td>\n",
       "      <td>lo56la55</td>\n",
       "    </tr>\n",
       "    <tr>\n",
       "      <th>9</th>\n",
       "      <td>2</td>\n",
       "      <td>0</td>\n",
       "      <td>плита эви 5120 работают 3 конфорки и духовка п...</td>\n",
       "      <td>плита электрическая</td>\n",
       "      <td>1</td>\n",
       "      <td>203</td>\n",
       "      <td>2017</td>\n",
       "      <td>10</td>\n",
       "      <td>7</td>\n",
       "      <td>2</td>\n",
       "      <td>3</td>\n",
       "      <td>0</td>\n",
       "      <td>lo30la60</td>\n",
       "    </tr>\n",
       "    <tr>\n",
       "      <th>15</th>\n",
       "      <td>1</td>\n",
       "      <td>0</td>\n",
       "      <td>все лоты привезены с площадок и аукционов япон...</td>\n",
       "      <td>диски r17 rays mazdaspeed touring 5х114 3 7j</td>\n",
       "      <td>0</td>\n",
       "      <td>116</td>\n",
       "      <td>2018</td>\n",
       "      <td>1</td>\n",
       "      <td>21</td>\n",
       "      <td>5</td>\n",
       "      <td>4</td>\n",
       "      <td>0</td>\n",
       "      <td>lo37la56</td>\n",
       "    </tr>\n",
       "    <tr>\n",
       "      <th>19</th>\n",
       "      <td>10</td>\n",
       "      <td>0</td>\n",
       "      <td></td>\n",
       "      <td>batman archam knight</td>\n",
       "      <td>1</td>\n",
       "      <td>1009</td>\n",
       "      <td>2017</td>\n",
       "      <td>10</td>\n",
       "      <td>15</td>\n",
       "      <td>0</td>\n",
       "      <td>2</td>\n",
       "      <td>0</td>\n",
       "      <td>lo38la56</td>\n",
       "    </tr>\n",
       "    <tr>\n",
       "      <th>20</th>\n",
       "      <td>11</td>\n",
       "      <td>0</td>\n",
       "      <td>отдаю ледобур времён с с с р диаметр 130 мм бе...</td>\n",
       "      <td>ледобур для зимней рыбалки</td>\n",
       "      <td>0</td>\n",
       "      <td>1104</td>\n",
       "      <td>2018</td>\n",
       "      <td>1</td>\n",
       "      <td>8</td>\n",
       "      <td>1</td>\n",
       "      <td>4</td>\n",
       "      <td>0</td>\n",
       "      <td>lo30la60</td>\n",
       "    </tr>\n",
       "  </tbody>\n",
       "</table>\n",
       "</div>"
      ],
      "text/plain": [
       "    category  delivery_available  \\\n",
       "4          6                   1   \n",
       "9          2                   0   \n",
       "15         1                   0   \n",
       "19        10                   0   \n",
       "20        11                   0   \n",
       "\n",
       "                                          description  \\\n",
       "4                        стремянка трехсекционная 3 4   \n",
       "9   плита эви 5120 работают 3 конфорки и духовка п...   \n",
       "15  все лоты привезены с площадок и аукционов япон...   \n",
       "19                                                      \n",
       "20  отдаю ледобур времён с с с р диаметр 130 мм бе...   \n",
       "\n",
       "                                            name  payment_available  \\\n",
       "4                                      стремянка                  1   \n",
       "9                            плита электрическая                  1   \n",
       "15  диски r17 rays mazdaspeed touring 5х114 3 7j                  0   \n",
       "19                          batman archam knight                  1   \n",
       "20                    ледобур для зимней рыбалки                  0   \n",
       "\n",
       "    subcategory  year  month  hour  weekday  images_len  free_price      loct  \n",
       "4           603  2018      1    14        5           3           0  lo56la55  \n",
       "9           203  2017     10     7        2           3           0  lo30la60  \n",
       "15          116  2018      1    21        5           4           0  lo37la56  \n",
       "19         1009  2017     10    15        0           2           0  lo38la56  \n",
       "20         1104  2018      1     8        1           4           0  lo30la60  "
      ]
     },
     "execution_count": 25,
     "metadata": {},
     "output_type": "execute_result"
    }
   ],
   "source": [
    "df_preproc.head(5)"
   ]
  },
  {
   "cell_type": "code",
   "execution_count": 26,
   "metadata": {},
   "outputs": [],
   "source": [
    "y_train_z = np.zeros(len(df_preproc))"
   ]
  },
  {
   "cell_type": "code",
   "execution_count": 27,
   "metadata": {},
   "outputs": [],
   "source": [
    "to_vw_file(df_preproc, y_train_z, name='cv_reviews_valid.vw')"
   ]
  },
  {
   "cell_type": "code",
   "execution_count": 28,
   "metadata": {},
   "outputs": [],
   "source": [
    "!vw -i cv_reviews_model.vw -t -d cv_reviews_valid.vw -p cv_valid_pred.txt --quiet\n",
    "with open('cv_valid_pred.txt') as pred_file:\n",
    "    validation_prediction = [float(label) for label in pred_file.readlines()]\n",
    "validation_prediction = np.array(validation_prediction)"
   ]
  },
  {
   "cell_type": "code",
   "execution_count": 29,
   "metadata": {},
   "outputs": [
    {
     "data": {
      "text/plain": [
       "-1.0"
      ]
     },
     "execution_count": 29,
     "metadata": {},
     "output_type": "execute_result"
    }
   ],
   "source": [
    "validation_prediction.min()"
   ]
  },
  {
   "cell_type": "code",
   "execution_count": 30,
   "metadata": {},
   "outputs": [],
   "source": [
    "validation_prediction[[validation_prediction <0]] = 0"
   ]
  },
  {
   "cell_type": "code",
   "execution_count": 31,
   "metadata": {},
   "outputs": [
    {
     "data": {
      "text/plain": [
       "array([40332.503906, 40332.503906, 40311.285156, ..., 40324.140625,\n",
       "       40332.503906, 40332.503906])"
      ]
     },
     "execution_count": 31,
     "metadata": {},
     "output_type": "execute_result"
    }
   ],
   "source": [
    "validation_prediction"
   ]
  },
  {
   "cell_type": "code",
   "execution_count": null,
   "metadata": {},
   "outputs": [],
   "source": []
  },
  {
   "cell_type": "code",
   "execution_count": null,
   "metadata": {},
   "outputs": [],
   "source": [
    "%%time\n",
    "df_test = pd.read_pickle(r'E:/data/ds/hak/test_hack.pckl')"
   ]
  },
  {
   "cell_type": "code",
   "execution_count": 38,
   "metadata": {},
   "outputs": [],
   "source": [
    "df_test['price'] = validation_prediction"
   ]
  },
  {
   "cell_type": "code",
   "execution_count": 39,
   "metadata": {},
   "outputs": [
    {
     "data": {
      "text/plain": [
       "4     40332.503906\n",
       "9     40332.503906\n",
       "15    40311.285156\n",
       "19    40332.503906\n",
       "20    31624.546875\n",
       "21    40332.503906\n",
       "24    39970.742188\n",
       "28    40332.503906\n",
       "29    40332.503906\n",
       "31    28488.476563\n",
       "Name: price, dtype: float64"
      ]
     },
     "execution_count": 39,
     "metadata": {},
     "output_type": "execute_result"
    }
   ],
   "source": [
    "df_test['price'].head(10)"
   ]
  },
  {
   "cell_type": "code",
   "execution_count": 40,
   "metadata": {},
   "outputs": [],
   "source": [
    "sub_1 = df_test[['id', 'price']]"
   ]
  },
  {
   "cell_type": "code",
   "execution_count": 41,
   "metadata": {},
   "outputs": [],
   "source": [
    "sub_1.to_csv('sub_vw_v4.csv', index=False)"
   ]
  },
  {
   "cell_type": "code",
   "execution_count": null,
   "metadata": {},
   "outputs": [],
   "source": [
    "sub_2 = pd.read_csv('sub_vw_v3.csv')"
   ]
  },
  {
   "cell_type": "code",
   "execution_count": null,
   "metadata": {},
   "outputs": [],
   "source": [
    "sub_2"
   ]
  },
  {
   "cell_type": "code",
   "execution_count": null,
   "metadata": {},
   "outputs": [],
   "source": [
    "sub_2['SUM'] = sub_1['price'] + sub_2['price']\n",
    "sub_2['med'] = sub_2['med'].mean()"
   ]
  },
  {
   "cell_type": "code",
   "execution_count": null,
   "metadata": {},
   "outputs": [],
   "source": [
    "sub_2['med'] = sub_2['med'].mean()"
   ]
  },
  {
   "cell_type": "code",
   "execution_count": 77,
   "metadata": {},
   "outputs": [
    {
     "data": {
      "text/plain": [
       "((749525, 18), (749525, 2))"
      ]
     },
     "execution_count": 77,
     "metadata": {},
     "output_type": "execute_result"
    }
   ],
   "source": [
    "df_test.shape, sub_1.shape"
   ]
  },
  {
   "cell_type": "code",
   "execution_count": 78,
   "metadata": {},
   "outputs": [],
   "source": [
    "sub_1.to_csv('sub_vw_v3.csv', index=False)"
   ]
  },
  {
   "cell_type": "code",
   "execution_count": null,
   "metadata": {},
   "outputs": [],
   "source": [
    "sub_1.to_csv('sub_vw_v4.csv', index=False)"
   ]
  }
 ],
 "metadata": {
  "kernelspec": {
   "display_name": "Python 3",
   "language": "python",
   "name": "python3"
  },
  "language_info": {
   "codemirror_mode": {
    "name": "ipython",
    "version": 3
   },
   "file_extension": ".py",
   "mimetype": "text/x-python",
   "name": "python",
   "nbconvert_exporter": "python",
   "pygments_lexer": "ipython3",
   "version": "3.6.4"
  }
 },
 "nbformat": 4,
 "nbformat_minor": 2
}
